{
  "nbformat": 4,
  "nbformat_minor": 0,
  "metadata": {
    "colab": {
      "name": "Cainco_teste_inicial.ipynb",
      "provenance": [],
      "mount_file_id": "1DiDUM_T22G7x4_Z6XzyxF0m3ydEhvmzY",
      "authorship_tag": "ABX9TyMwyKoFFJfnPiBBTN3wy55O",
      "include_colab_link": true
    },
    "kernelspec": {
      "name": "python3",
      "display_name": "Python 3"
    },
    "language_info": {
      "name": "python"
    }
  },
  "cells": [
    {
      "cell_type": "markdown",
      "metadata": {
        "id": "view-in-github",
        "colab_type": "text"
      },
      "source": [
        "<a href=\"https://colab.research.google.com/github/iothouse/SmartProtect/blob/main/Cainco_teste_inicial.ipynb\" target=\"_parent\"><img src=\"https://colab.research.google.com/assets/colab-badge.svg\" alt=\"Open In Colab\"/></a>"
      ]
    },
    {
      "cell_type": "markdown",
      "source": [
        "Smart Protect - Cainco"
      ],
      "metadata": {
        "id": "jtOgmNLUu28p"
      }
    },
    {
      "cell_type": "code",
      "execution_count": 1,
      "metadata": {
        "colab": {
          "base_uri": "https://localhost:8080/"
        },
        "id": "WaNW5knwuLkm",
        "outputId": "677b9a45-1442-41ca-b75a-551756ccbb9d"
      },
      "outputs": [
        {
          "output_type": "stream",
          "name": "stdout",
          "text": [
            "Collecting cvzone\n",
            "  Downloading cvzone-1.5.6.tar.gz (12 kB)\n",
            "Requirement already satisfied: opencv-python in /usr/local/lib/python3.7/dist-packages (from cvzone) (4.1.2.30)\n",
            "Requirement already satisfied: numpy in /usr/local/lib/python3.7/dist-packages (from cvzone) (1.21.6)\n",
            "Building wheels for collected packages: cvzone\n",
            "  Building wheel for cvzone (setup.py) ... \u001b[?25l\u001b[?25hdone\n",
            "  Created wheel for cvzone: filename=cvzone-1.5.6-py3-none-any.whl size=18768 sha256=5fda5f8c670c98f4d86277e78b90d2f95cf69f8fb5c87c2b097a67e8bd559bdc\n",
            "  Stored in directory: /root/.cache/pip/wheels/c1/e8/e9/80f482161ba9f5dcf4832b76ac70540edd11a3136a58445c52\n",
            "Successfully built cvzone\n",
            "Installing collected packages: cvzone\n",
            "Successfully installed cvzone-1.5.6\n"
          ]
        }
      ],
      "source": [
        "# Install Librarie\n",
        "!pip install cvzone\n"
      ]
    },
    {
      "cell_type": "markdown",
      "source": [
        "Libraires"
      ],
      "metadata": {
        "id": "8tojXqZlv6ME"
      }
    },
    {
      "cell_type": "code",
      "source": [
        "import cv2\n",
        "import numpy as np\n",
        "from google.colab import drive"
      ],
      "metadata": {
        "id": "C3YMKhRPxAR5"
      },
      "execution_count": null,
      "outputs": []
    },
    {
      "cell_type": "code",
      "source": [
        "# Mount Google Drive\n",
        "drive.mount('/gdrive', force_remount=True)"
      ],
      "metadata": {
        "id": "QXOpDBGixT1K"
      },
      "execution_count": null,
      "outputs": []
    },
    {
      "cell_type": "code",
      "source": [
        "thres = 0.45 # Threshold to detect object\n",
        " \n",
        "cap = cv2.VideoCapture(1)\n",
        "cap.set(3,1280)\n",
        "cap.set(4,720)\n",
        "cap.set(10,70)\n",
        " \n",
        "classNames= []\n",
        "classFile = ‘coco.names’\n",
        "with open(classFile,’rt’) as f:\n",
        "classNames = f.read().rstrip(‘n’).split(‘n’)\n",
        " \n",
        "configPath = ‘ssd_mobilenet_v3_large_coco_2020_01_14.pbtxt’\n",
        "weightsPath = ‘frozen_inference_graph.pb’\n",
        " \n",
        "net = cv2.dnn_DetectionModel(weightsPath,configPath)\n",
        "net.setInputSize(320,320)\n",
        "net.setInputScale(1.0/ 127.5)\n",
        "net.setInputMean((127.5, 127.5, 127.5))\n",
        "net.setInputSwapRB(True)\n",
        " \n",
        "while True:\n",
        "    success,img = cap.read()\n",
        "    classIds, confs, bbox = net.detect(img,confThreshold=thres)\n",
        "    print(classIds,bbox)\n",
        " \n",
        "    if len(classIds) != 0:\n",
        "        for classId, confidence,box in zip(classIds.flatten(),confs.flatten(),bbox):\n",
        "            cv2.rectangle(img,box,color=(0,255,0),thickness=2)\n",
        "            cv2.putText(img,classNames[classId-1].upper(),(box[0]+10,box[1]+30),\n",
        "            cv2.FONT_HERSHEY_COMPLEX,1,(0,255,0),2)\n",
        "            cv2.putText(img,str(round(confidence*100,2)),(box[0]+200,box[1]+30),\n",
        "            cv2.FONT_HERSHEY_COMPLEX,1,(0,255,0),2)\n",
        " \n",
        "    cv2.imshow(“Output”,img)\n",
        "    cv2.waitKey(1)"
      ],
      "metadata": {
        "id": "dVjIKdcOw6IK"
      },
      "execution_count": null,
      "outputs": []
    },
    {
      "cell_type": "code",
      "source": [
        "\n",
        "\n",
        "thres = 0.45 # Threshold to detect object\n",
        "nms_threshold = 0.2\n",
        "cap = cv2.VideoCapture(0)\n",
        "# cap.set(3,1280)\n",
        "# cap.set(4,720)\n",
        "# cap.set(10,150)\n",
        " \n",
        "classNames= []\n",
        "classFile = ‘coco.names’\n",
        "with open(classFile,’rt’) as f:\n",
        "classNames = f.read().rstrip(‘n’).split(‘n’)\n",
        " \n",
        "#print(classNames)\n",
        "configPath = ‘ssd_mobilenet_v3_large_coco_2020_01_14.pbtxt’\n",
        "weightsPath = ‘frozen_inference_graph.pb’\n",
        " \n",
        "net = cv2.dnn_DetectionModel(weightsPath,configPath)\n",
        "net.setInputSize(320,320)\n",
        "net.setInputScale(1.0/ 127.5)\n",
        "net.setInputMean((127.5, 127.5, 127.5))\n",
        "net.setInputSwapRB(True)\n",
        " \n",
        "while True:\n",
        "    success,img = cap.read()\n",
        "    classIds, confs, bbox = net.detect(img,confThreshold=thres)\n",
        "    bbox = list(bbox)\n",
        "    confs = list(np.array(confs).reshape(1,-1)[0])\n",
        "    confs = list(map(float,confs))\n",
        "    #print(type(confs[0]))\n",
        "    #print(confs)\n",
        " \n",
        "    indices = cv2.dnn.NMSBoxes(bbox,confs,thres,nms_threshold)\n",
        "    #print(indices)\n",
        " \n",
        "    for i in indices:\n",
        "        i = i[0]\n",
        "        box = bbox[i]\n",
        "        x,y,w,h = box[0],box[1],box[2],box[3]\n",
        "        cv2.rectangle(img, (x,y),(x+w,h+y), color=(0, 255, 0), thickness=2)\n",
        "        cv2.putText(img,classNames[classIds[i][0]-1].upper(),(box[0]+10,box[1]+30),\n",
        "        cv2.FONT_HERSHEY_COMPLEX,1,(0,255,0),2)\n",
        " \n",
        "    cv2.imshow(“Output”,img)\n",
        "    cv2.waitKey(1)\n"
      ],
      "metadata": {
        "id": "j7EPlAaPv1vb"
      },
      "execution_count": null,
      "outputs": []
    }
  ]
}